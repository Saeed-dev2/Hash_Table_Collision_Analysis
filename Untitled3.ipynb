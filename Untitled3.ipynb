{
  "nbformat": 4,
  "nbformat_minor": 0,
  "metadata": {
    "colab": {
      "provenance": []
    },
    "kernelspec": {
      "name": "python3",
      "display_name": "Python 3"
    },
    "language_info": {
      "name": "python"
    }
  },
  "cells": [
    {
      "cell_type": "code",
      "execution_count": 1,
      "metadata": {
        "colab": {
          "base_uri": "https://localhost:8080/"
        },
        "id": "I3fq-FnHJ_PF",
        "outputId": "0933cea3-66b0-4d13-c2d0-ab55ccd11f0c"
      },
      "outputs": [
        {
          "output_type": "stream",
          "name": "stdout",
          "text": [
            "Collecting python-docx\n",
            "  Downloading python_docx-1.1.2-py3-none-any.whl.metadata (2.0 kB)\n",
            "Requirement already satisfied: lxml>=3.1.0 in /usr/local/lib/python3.10/dist-packages (from python-docx) (4.9.4)\n",
            "Requirement already satisfied: typing-extensions>=4.9.0 in /usr/local/lib/python3.10/dist-packages (from python-docx) (4.12.2)\n",
            "Downloading python_docx-1.1.2-py3-none-any.whl (244 kB)\n",
            "\u001b[?25l   \u001b[90m━━━━━━━━━━━━━━━━━━━━━━━━━━━━━━━━━━━━━━━━\u001b[0m \u001b[32m0.0/244.3 kB\u001b[0m \u001b[31m?\u001b[0m eta \u001b[36m-:--:--\u001b[0m\r\u001b[2K   \u001b[91m━━━━━━━━━━━━━━━━━━━━━━━━━\u001b[0m\u001b[90m╺\u001b[0m\u001b[90m━━━━━━━━━━━━━━\u001b[0m \u001b[32m153.6/244.3 kB\u001b[0m \u001b[31m4.5 MB/s\u001b[0m eta \u001b[36m0:00:01\u001b[0m\r\u001b[2K   \u001b[90m━━━━━━━━━━━━━━━━━━━━━━━━━━━━━━━━━━━━━━━━\u001b[0m \u001b[32m244.3/244.3 kB\u001b[0m \u001b[31m4.0 MB/s\u001b[0m eta \u001b[36m0:00:00\u001b[0m\n",
            "\u001b[?25hInstalling collected packages: python-docx\n",
            "Successfully installed python-docx-1.1.2\n"
          ]
        }
      ],
      "source": [
        "!pip install python-docx"
      ]
    },
    {
      "cell_type": "code",
      "source": [
        "!pip install mmh3==4.1.0"
      ],
      "metadata": {
        "colab": {
          "base_uri": "https://localhost:8080/"
        },
        "id": "rUbZkfRqKEWv",
        "outputId": "9cbdc8f1-4f5c-4b3d-8db8-93b3ec9ffcbb"
      },
      "execution_count": 2,
      "outputs": [
        {
          "output_type": "stream",
          "name": "stdout",
          "text": [
            "Collecting mmh3==4.1.0\n",
            "  Downloading mmh3-4.1.0-cp310-cp310-manylinux_2_5_x86_64.manylinux1_x86_64.manylinux_2_17_x86_64.manylinux2014_x86_64.whl.metadata (13 kB)\n",
            "Downloading mmh3-4.1.0-cp310-cp310-manylinux_2_5_x86_64.manylinux1_x86_64.manylinux_2_17_x86_64.manylinux2014_x86_64.whl (67 kB)\n",
            "\u001b[?25l   \u001b[90m━━━━━━━━━━━━━━━━━━━━━━━━━━━━━━━━━━━━━━━━\u001b[0m \u001b[32m0.0/67.6 kB\u001b[0m \u001b[31m?\u001b[0m eta \u001b[36m-:--:--\u001b[0m\r\u001b[2K   \u001b[90m━━━━━━━━━━━━━━━━━━━━━━━━━━━━━━━━━━━━━━━━\u001b[0m \u001b[32m67.6/67.6 kB\u001b[0m \u001b[31m1.8 MB/s\u001b[0m eta \u001b[36m0:00:00\u001b[0m\n",
            "\u001b[?25hInstalling collected packages: mmh3\n",
            "Successfully installed mmh3-4.1.0\n"
          ]
        }
      ]
    },
    {
      "cell_type": "code",
      "source": [
        "import mmh3  # MurmurHash library\n",
        "import random\n",
        "\n",
        "# Hash Table class with chaining collision resolution\n",
        "class HashTable:\n",
        "    def __init__(self, size):\n",
        "        self.size = size\n",
        "        self.table = [[] for _ in range(size)]\n",
        "\n",
        "    def murmur_hash(self, key, seed=0):\n",
        "        # Use mmh3 to generate a hash with a seed\n",
        "        return mmh3.hash(key, seed) % self.size\n",
        "\n",
        "    def djb2_hash(self, key):\n",
        "        # DJB2 hash implementation\n",
        "        hash = 5381\n",
        "        for x in key:\n",
        "            hash = ((hash << 5) + hash) + ord(x)\n",
        "        return hash % self.size\n",
        "\n",
        "    def insert(self, key, value, hash_func):\n",
        "        hash_index = hash_func(key)\n",
        "        bucket = self.table[hash_index]\n",
        "        for kv in bucket:\n",
        "            if kv[0] == key:\n",
        "                kv[1] = value  # Update existing value\n",
        "                return\n",
        "        bucket.append([key, value])\n",
        "\n",
        "    def count_collisions(self):\n",
        "        collisions = 0\n",
        "        for bucket in self.table:\n",
        "            if len(bucket) > 1:\n",
        "                collisions += len(bucket) - 1\n",
        "        return collisions\n",
        "\n",
        "\n",
        "hash_table_size = 10\n",
        "urls = [\n",
        "    \"https://www.youtube.com\", \"https://www.google.com\",\n",
        "    \"https://www.github.com\", \"https://www.stackoverflow.com\",\n",
        "    \"https://www.facebook.com\", \"https://www.twitter.com\",\n",
        "    \"https://www.linkedin.com\", \"https://www.reddit.com\",\n",
        "    \"https://www.youtube.com\", \"https://www.instagram.com\",\n",
        "    \"https://www.twitch.tv\", \"https://www.wikipedia.org\",\n",
        "    \"https://www.quora.com\", \"https://www.netflix.com\",\n",
        "    \"https://www.amazon.com\", \"https://www.microsoft.com\",\n",
        "    \"https://www.apple.com\", \"https://www.adobe.com\",\n",
        "    \"https://www.salesforce.com\", \"https://www.dropbox.com\"\n",
        "]\n",
        "\n",
        "short_urls = [f\"short{i}\" for i in range(len(urls))]\n",
        "\n",
        "# Function to test hash tables with different seeds and shuffled URLs\n",
        "def test_hash_tables(seed):\n",
        "    # Shuffle the URLs to introduce randomness\n",
        "    shuffled_urls = list(zip(urls, short_urls))\n",
        "    random.shuffle(shuffled_urls)\n",
        "    shuffled_urls, shuffled_short_urls = zip(*shuffled_urls)\n",
        "\n",
        "    # Create hash tables\n",
        "    murmur_table = HashTable(hash_table_size)\n",
        "    djb2_table = HashTable(hash_table_size)\n",
        "\n",
        "    # Insert data and compute collisions for MurmurHash\n",
        "    for url, short_url in zip(shuffled_urls, shuffled_short_urls):\n",
        "        murmur_table.insert(url, short_url, lambda k: murmur_table.murmur_hash(k, seed))\n",
        "    murmur_collisions = murmur_table.count_collisions()\n",
        "\n",
        "    # Insert data and compute collisions for DJB2\n",
        "    for url, short_url in zip(shuffled_urls, shuffled_short_urls):\n",
        "        djb2_table.insert(url, short_url, djb2_table.djb2_hash)\n",
        "    djb2_collisions = djb2_table.count_collisions()\n",
        "\n",
        "    return murmur_collisions, djb2_collisions\n",
        "\n",
        "\n",
        "# Collect results for 5 different runs\n",
        "results = []\n",
        "for i in range(5):\n",
        "    seed = random.randint(0, 10000)\n",
        "    murmur_collisions, djb2_collisions = test_hash_tables(seed)\n",
        "    results.append((seed, murmur_collisions, djb2_collisions))\n",
        "\n",
        "# Print all results\n",
        "for i, (seed, murmur_collisions, djb2_collisions) in enumerate(results):\n",
        "    print(f\"Run {i + 1}:\")\n",
        "    print(f\" MurmurHash Collisions: {murmur_collisions}\")\n",
        "    print(f\" DJB2 Collisions: {djb2_collisions}\")\n",
        "    print(\"\")\n"
      ],
      "metadata": {
        "colab": {
          "base_uri": "https://localhost:8080/"
        },
        "id": "vlziBF3bKUwy",
        "outputId": "a07a49e8-18f5-4fbf-81e5-926ee27407fd"
      },
      "execution_count": 3,
      "outputs": [
        {
          "output_type": "stream",
          "name": "stdout",
          "text": [
            "Run 1:\n",
            " MurmurHash Collisions: 9\n",
            " DJB2 Collisions: 12\n",
            "\n",
            "Run 2:\n",
            " MurmurHash Collisions: 10\n",
            " DJB2 Collisions: 12\n",
            "\n",
            "Run 3:\n",
            " MurmurHash Collisions: 10\n",
            " DJB2 Collisions: 12\n",
            "\n",
            "Run 4:\n",
            " MurmurHash Collisions: 12\n",
            " DJB2 Collisions: 12\n",
            "\n",
            "Run 5:\n",
            " MurmurHash Collisions: 11\n",
            " DJB2 Collisions: 12\n",
            "\n"
          ]
        }
      ]
    },
    {
      "cell_type": "code",
      "source": [],
      "metadata": {
        "id": "w7D4zNFoKVWp"
      },
      "execution_count": null,
      "outputs": []
    }
  ]
}